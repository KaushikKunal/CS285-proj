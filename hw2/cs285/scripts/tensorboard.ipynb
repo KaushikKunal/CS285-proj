{
 "cells": [
  {
   "cell_type": "code",
   "execution_count": 1,
   "metadata": {},
   "outputs": [
    {
     "data": {
      "text/html": [
       "\n",
       "      <iframe id=\"tensorboard-frame-8a7d5506bdf7b3ba\" width=\"100%\" height=\"800\" frameborder=\"0\">\n",
       "      </iframe>\n",
       "      <script>\n",
       "        (function() {\n",
       "          const frame = document.getElementById(\"tensorboard-frame-8a7d5506bdf7b3ba\");\n",
       "          const url = new URL(\"/\", window.location);\n",
       "          const port = 6006;\n",
       "          if (port) {\n",
       "            url.port = port;\n",
       "          }\n",
       "          frame.src = url;\n",
       "        })();\n",
       "      </script>\n",
       "    "
      ],
      "text/plain": [
       "<IPython.core.display.HTML object>"
      ]
     },
     "metadata": {},
     "output_type": "display_data"
    }
   ],
   "source": [
    "%load_ext tensorboard\n",
    "%tensorboard --logdir /home/nidhi/school/fa23/cs285/homework_fall2023/hw1/data"
   ]
  },
  {
   "cell_type": "code",
   "execution_count": 2,
   "metadata": {},
   "outputs": [],
   "source": [
    "import csv"
   ]
  },
  {
   "cell_type": "code",
   "execution_count": 13,
   "metadata": {},
   "outputs": [
    {
     "name": "stdout",
     "output_type": "stream",
     "text": [
      "[1423.696533203125, 4266.4853515625, 4475.20166015625, 5348.88720703125, 5348.587890625, 5363.357421875, 5348.82177734375, 5181.2822265625, 5361.23583984375, 5426.85400390625]\n",
      "[824.5542602539062, 1841.7979736328125, 1391.6234130859375, 33.32991027832031, 38.41844177246094, 55.55806350708008, 61.52907180786133, 167.13795471191406, 30.678539276123047, 28.973859786987305]\n",
      "[5383.310546875, 5383.310546875, 5383.310546875, 5383.310546875, 5383.310546875, 5383.310546875, 5383.310546875, 5383.310546875, 5383.310546875, 5383.310546875]\n"
     ]
    }
   ],
   "source": [
    "walker_ret = []\n",
    "walker_std = []\n",
    "walker_expert = 0\n",
    "\n",
    "with open('/home/nidhi/school/fa23/cs285/homework_fall2023/hw1/data/data_q2_dagger_walker2d_Walker2d-v4_12-09-2023_19-30-54.csv') as csvfile:\n",
    "    reader = csv.DictReader(csvfile)\n",
    "    for row in reader:\n",
    "        walker_ret.append(float(row['Value']))\n",
    "print(walker_ret)\n",
    "\n",
    "with open('/home/nidhi/school/fa23/cs285/homework_fall2023/hw1/data/data_q2_dagger_walker2d_Walker2d-v4_12-09-2023_19-30-54 (1).csv') as csvfile:\n",
    "    reader = csv.DictReader(csvfile)\n",
    "    for row in reader:\n",
    "        walker_std.append(float(row['Value']))\n",
    "print(walker_std)\n",
    "\n",
    "with open('/home/nidhi/school/fa23/cs285/homework_fall2023/hw1/data/data_q2_dagger_walker2d_Walker2d-v4_12-09-2023_19-30-54 (2).csv') as csvfile:\n",
    "    reader = csv.DictReader(csvfile)\n",
    "    for row in reader:\n",
    "        walker_expert = float(row['Value'])\n",
    "walker_expert = [walker_expert for _ in range(len(walker_ret))]\n",
    "print(walker_expert)"
   ]
  },
  {
   "cell_type": "code",
   "execution_count": 11,
   "metadata": {},
   "outputs": [
    {
     "name": "stdout",
     "output_type": "stream",
     "text": [
      "[4558.232421875, 4596.7490234375, 4688.5869140625, 4696.1669921875, 4669.74609375, 4673.5087890625, 4755.7001953125, 4689.86181640625, 4588.296875, 4617.63671875]\n",
      "[61.59550857543945, 68.54679107666016, 75.51212310791016, 76.1871109008789, 115.63756561279297, 100.5507583618164, 35.79708480834961, 103.11129760742188, 65.59736633300781, 80.68832397460938]\n",
      "[4681.8916015625, 4681.8916015625, 4681.8916015625, 4681.8916015625, 4681.8916015625, 4681.8916015625, 4681.8916015625, 4681.8916015625, 4681.8916015625, 4681.8916015625]\n"
     ]
    }
   ],
   "source": [
    "ant_ret = []\n",
    "ant_std = []\n",
    "ant_expert = 0\n",
    "\n",
    "with open('/home/nidhi/school/fa23/cs285/homework_fall2023/hw1/data/data_q2_dagger_ant_Ant-v4_12-09-2023_19-04-18.csv') as csvfile:\n",
    "    reader = csv.DictReader(csvfile)\n",
    "    for row in reader:\n",
    "        ant_ret.append(float(row['Value']))\n",
    "print(ant_ret)\n",
    "\n",
    "with open('/home/nidhi/school/fa23/cs285/homework_fall2023/hw1/data/data_q2_dagger_ant_Ant-v4_12-09-2023_19-04-18 (1).csv') as csvfile:\n",
    "    reader = csv.DictReader(csvfile)\n",
    "    for row in reader:\n",
    "        ant_std.append(float(row['Value']))\n",
    "print(ant_std)\n",
    "\n",
    "with open('/home/nidhi/school/fa23/cs285/homework_fall2023/hw1/data/data_q2_dagger_ant_Ant-v4_12-09-2023_19-04-18 (2).csv') as csvfile:\n",
    "    reader = csv.DictReader(csvfile)\n",
    "    for row in reader:\n",
    "        ant_expert = float(row['Value'])\n",
    "ant_expert = [ant_expert for _ in range(len(ant_ret))]\n",
    "print(ant_expert)"
   ]
  },
  {
   "cell_type": "code",
   "execution_count": 8,
   "metadata": {},
   "outputs": [],
   "source": [
    "import matplotlib.pyplot as plt"
   ]
  },
  {
   "cell_type": "code",
   "execution_count": 15,
   "metadata": {},
   "outputs": [
    {
     "data": {
      "text/plain": [
       "<matplotlib.legend.Legend at 0x7fea98ee6310>"
      ]
     },
     "execution_count": 15,
     "metadata": {},
     "output_type": "execute_result"
    },
    {
     "data": {
      "image/png": "[encoded data removed]",
      "text/plain": [
       "<Figure size 432x288 with 1 Axes>"
      ]
     },
     "metadata": {
      "needs_background": "light"
     },
     "output_type": "display_data"
    }
   ],
   "source": [
    "fig = plt.figure()\n",
    "x = range(len(walker_ret))\n",
    "\n",
    "plt.title(\"Avg Return vs DAgger Iterations\")\n",
    "plt.xlabel(\"DAgger Iterations\")\n",
    "plt.ylabel(\"Eval Average Return\")\n",
    "plt.errorbar(x, walker_ret, yerr=walker_std, label='Walker2d')\n",
    "plt.errorbar(x, ant_ret, yerr=ant_std, label='Ant')\n",
    "plt.plot(x, walker_expert, label='Walker2d Expert')\n",
    "plt.plot(x, ant_expert, label='Ant Expert')\n",
    "plt.legend(loc='lower right')"
   ]
  },
  {
   "cell_type": "code",
   "execution_count": null,
   "metadata": {},
   "outputs": [],
   "source": []
  }
 ],
 "metadata": {
  "kernelspec": {
   "display_name": "Python 3 (ipykernel)",
   "language": "python",
   "name": "python3"
  },
  "language_info": {
   "codemirror_mode": {
    "name": "ipython",
    "version": 3
   },
   "file_extension": ".py",
   "mimetype": "text/x-python",
   "name": "python",
   "nbconvert_exporter": "python",
   "pygments_lexer": "ipython3",
   "version": "3.8.10"
  }
 },
 "nbformat": 4,
 "nbformat_minor": 2
}
